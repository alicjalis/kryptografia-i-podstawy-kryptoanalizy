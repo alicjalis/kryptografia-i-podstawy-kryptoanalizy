{
 "cells": [
  {
   "cell_type": "markdown",
   "source": [
    "## 6. Elliptic Curve Signatures: ECDSA or EdDSA\n",
    "### Alicja Lis 151569\n",
    "### Mikołaj Lewandowski"
   ],
   "metadata": {
    "collapsed": false
   }
  },
  {
   "cell_type": "markdown",
   "source": [
    "6. Elliptic Curve Signatures: ECDSA or EdDSA\n",
    "Goal: Implement ECDSA or EdDSA (e.g., using Curve25519 or P-256).\n",
    "Subtasks:\n",
    "* Easy: Use a cryptographic library (e.g., Python's cryptography, or libsodium) to generate and verify signatures.\n",
    "* Medium: Implement signature and verification from scratch (using provided curve parameters).\n",
    "* Hard: Simulate fault injection (e.g., nonce reuse) and show signature vulnerability.\n",
    "* Bonus: Implement batch verification of multiple signatures."
   ],
   "metadata": {
    "collapsed": false
   }
  },
  {
   "cell_type": "markdown",
   "source": [
    "### Easy: Use a cryptographic library (e.g., Python's cryptography, or libsodium) to generate and verify signatures."
   ],
   "metadata": {
    "collapsed": false
   }
  },
  {
   "cell_type": "code",
   "execution_count": 5,
   "metadata": {
    "collapsed": true
   },
   "outputs": [
    {
     "name": "stdout",
     "output_type": "stream",
     "text": [
      "Test for normal data:\n",
      "Signature is valid\n",
      "Test fot tampered data:\n",
      "Signature is not valid\n"
     ]
    }
   ],
   "source": [
    "from cryptography.hazmat.primitives import hashes\n",
    "\n",
    "from cryptography.hazmat.primitives.asymmetric import ec\n",
    "import hashlib\n",
    "import secrets\n",
    "\n",
    "private_key = ec.generate_private_key(\n",
    "\n",
    "    ec.SECP256R1()\n",
    "\n",
    ")\n",
    "data = b\"this is some data I'd like to sign\"\n",
    "tampered_data = b\"this is tampered data\"\n",
    "\n",
    "signature = private_key.sign(\n",
    "\n",
    "    data,\n",
    "\n",
    "    ec.ECDSA(hashes.SHA256())\n",
    "\n",
    ")\n",
    "\n",
    "public_key = private_key.public_key()\n",
    "\n",
    "print(\"Test for normal data:\")\n",
    "try:\n",
    "    public_key.verify(signature, data, ec.ECDSA(hashes.SHA256()))\n",
    "    print(\"Signature is valid\")\n",
    "except:\n",
    "    print(\"Signature is not valid\")\n",
    "\n",
    "print(\"Test fot tampered data:\")\n",
    "try:\n",
    "    public_key.verify(signature, tampered_data, ec.ECDSA(hashes.SHA256()))\n",
    "    print(\"Signature is valid\")\n",
    "except:\n",
    "    print(\"Signature is not valid\")\n",
    "\n",
    "\n"
   ]
  },
  {
   "cell_type": "markdown",
   "source": [
    "### Medium: Implement signature and verification from scratch (using provided curve parameters)."
   ],
   "metadata": {
    "collapsed": false
   }
  },
  {
   "cell_type": "markdown",
   "source": [
    "In utils.py we implemented all arithmetic needed to perform ecdsa, we also defined there our parameters for the curve from NIST page."
   ],
   "metadata": {
    "collapsed": false
   }
  },
  {
   "cell_type": "code",
   "execution_count": 6,
   "outputs": [],
   "source": [
    "p = 0xffffffff00000001000000000000000000000000ffffffffffffffffffffffff # big prime so that there are no cycles\n",
    "a = 0xffffffff00000001000000000000000000000000fffffffffffffffffffffffc # coeffs\n",
    "b = 0x5ac635d8aa3a93e7b3ebbd55769886bc651d06b0cc53b0f63bce3c3e27d2604b # coeffs\n",
    "G = (0x6b17d1f2e12c4247f8bce6e563a440f277037d812deb33a0f4a13945d898c296, 0x4fe342e2fe1a7f9b8ee7eb4a7c0f9e162bce33576b315ececbb6406837bf51f5) # starting point\n",
    "n = 0xffffffff00000000ffffffffffffffffbce6faada7179e84f3b9cac2fc632551 # order\n",
    "h = 0x1\n",
    "\n",
    "def get_p_256_params():\n",
    "    return p, a, b, G, n\n",
    "def encrypt_message(message):\n",
    "    sha_signature = \\\n",
    "        hashlib.sha256(message.encode()).hexdigest()\n",
    "    return sha_signature\n",
    "\n",
    "def modinv(a,p):\n",
    "    # Extended Euclidean Algorithm\n",
    "    return pow(a, -1, p)  #a**(-1) mod p\n",
    "\n",
    "\n",
    "class EllipticCurve:\n",
    "    def __init__(self, p, a, b, G, n):\n",
    "        self.p = p\n",
    "        self.a = a\n",
    "        self.b = b\n",
    "        self.G = G\n",
    "        self.n = n\n",
    "\n",
    "    def add(self, P, Q):\n",
    "        if P == (None, None):\n",
    "            return Q\n",
    "        if Q == (None, None):\n",
    "            return P\n",
    "\n",
    "        x1, y1 = P\n",
    "        x2, y2 = Q\n",
    "        if x1 == x2 and y1 != y2:\n",
    "            return (None, None)\n",
    "\n",
    "        if P != Q:\n",
    "            # λ = (y2 - y1) / (x2 - x1) mod p\n",
    "            lam = ((y2 - y1) * modinv(x2 - x1, self.p)) % self.p\n",
    "        else:\n",
    "            # λ = (3x1² + a) / (2y1) mod p\n",
    "            lam = ((3 * x1 * x1 + self.a) * modinv(2 * y1, self.p)) % self.p\n",
    "\n",
    "        x3 = (lam * lam - x1 - x2) % self.p\n",
    "        y3 = (lam * (x1 - x3) - y1) % self.p\n",
    "\n",
    "        return(x3, y3)\n",
    "\n",
    "    def multiply(self, k, P):\n",
    "        result = (None, None)\n",
    "        addend = P\n",
    "        while k:\n",
    "            if k & 1:\n",
    "                result = self.add(result, addend)\n",
    "            addend = self.add(addend, addend)\n",
    "            k >>= 1\n",
    "        return result\n",
    "\n",
    "\n",
    "def generate_signature(message, private_key, curve, k=None):\n",
    "    if k is None:\n",
    "        k = secrets.randbelow(curve.n - 1) + 1\n",
    "\n",
    "    z = int.from_bytes(hashlib.sha256(message.encode()).digest(), byteorder=\"big\")\n",
    "\n",
    "    # R = k * G\n",
    "    R = curve.multiply(k, curve.G)\n",
    "    r = R[0] % curve.n\n",
    "    if r == 0:\n",
    "        r = R[0] % curve.n\n",
    "\n",
    "    # s = k⁻¹ (z + r * d) mod n\n",
    "    s = (modinv(k, curve.n) * (z + r * private_key)) % curve.n\n",
    "    if s == 0:\n",
    "        s = (modinv(k, curve.n) * (z + r * private_key)) % curve.n\n",
    "\n",
    "    return r, s\n",
    "\n",
    "def verify_signature(message, r, s, public_key, curve):\n",
    "\n",
    "    if r <= 0 or r >= curve.n or s <= 0 or s >= curve.n:\n",
    "        return False\n",
    "\n",
    "    z = int.from_bytes(hashlib.sha256(message.encode()).digest(), byteorder=\"big\")\n",
    "    w = modinv(s, curve.n)\n",
    "    u1 = (z * w) % curve.n\n",
    "    u2 = (r * w) % curve.n\n",
    "\n",
    "    P = curve.add(curve.multiply(u1, curve.G), curve.multiply(u2, public_key))\n",
    "\n",
    "    return P[0] % curve.n == r"
   ],
   "metadata": {
    "collapsed": false
   }
  },
  {
   "cell_type": "markdown",
   "source": [
    "Then in another file we just used the functions from utils.py"
   ],
   "metadata": {
    "collapsed": false
   }
  },
  {
   "cell_type": "code",
   "execution_count": 7,
   "outputs": [
    {
     "name": "stdout",
     "output_type": "stream",
     "text": [
      "signature is valid\n"
     ]
    }
   ],
   "source": [
    "p, a, b, G, n = get_p_256_params()\n",
    "curve = EllipticCurve(p, a, b, G, n)\n",
    "\n",
    "private_key = secrets.randbelow(n - 1) + 1\n",
    "public_key = curve.multiply(private_key, G)\n",
    "\n",
    "# creating the signature\n",
    "message = \"ecdsa testing\"\n",
    "r, s = generate_signature(message, private_key, curve)\n",
    "\n",
    "# verifying the signature\n",
    "is_valid = verify_signature(message, r, s, public_key, curve)\n",
    "if is_valid:\n",
    "    print(\"signature is valid\")\n",
    "else:\n",
    "    print(\"signature is invalid\")\n"
   ],
   "metadata": {
    "collapsed": false
   }
  },
  {
   "cell_type": "markdown",
   "source": [
    "### Hard: Simulate fault injection (e.g., nonce reuse) and show signature vulnerability."
   ],
   "metadata": {
    "collapsed": false
   }
  },
  {
   "cell_type": "markdown",
   "source": [
    "In order to simulate fault injection we generated two signatures for different messages using the same random nonce k. Because of this, we have the same r values for both signatures. After that we knew everything needed for the attack, applied simple system of equations and recovered private key d."
   ],
   "metadata": {
    "collapsed": false
   }
  },
  {
   "cell_type": "code",
   "execution_count": 8,
   "outputs": [
    {
     "name": "stdout",
     "output_type": "stream",
     "text": [
      "r1 and r2 are the same\n",
      "Original d:  65371152979888975435526665895986996511065174287965291599975455785020746454644\n",
      "Recovered d: 65371152979888975435526665895986996511065174287965291599975455785020746454644\n",
      "Private key recovered due to nonce reuse\n"
     ]
    }
   ],
   "source": [
    "p, a, b, G, n = get_p_256_params()\n",
    "k = secrets.randbelow(n - 1) + 1\n",
    "d = secrets.randbelow(n - 1) + 1\n",
    "curve = EllipticCurve(p, a, b, G, n)\n",
    "\n",
    "message1 = \"first message\"\n",
    "r1, s1 = generate_signature(message1, d, curve, k)\n",
    "\n",
    "message2 = \"second message\"\n",
    "r2, s2 = generate_signature(message2, d, curve, k)\n",
    "\n",
    "if r1 == r2:\n",
    "    print(\"r1 and r2 are the same\")\n",
    "else:\n",
    "    print(\"r1 and r2 are different\")\n",
    "\n",
    "# Hash the messages\n",
    "z1 = int(hashlib.sha256(message1.encode()).hexdigest(), 16)\n",
    "z2 = int(hashlib.sha256(message2.encode()).hexdigest(), 16)\n",
    "\n",
    "# simplified system of equations\n",
    "k_recovered = ((z1 - z2) * modinv(s1 - s2, n)) % n\n",
    "\n",
    "r_inv = modinv(r1, n)\n",
    "d_recovered = ((s1 * k_recovered - z1) * r_inv) % n\n",
    "\n",
    "print(f\"Original d:  {d}\")\n",
    "print(f\"Recovered d: {d_recovered}\")\n",
    "\n",
    "if d == d_recovered:\n",
    "    print(\"Private key recovered due to nonce reuse\")\n",
    "else:\n",
    "    print(\"keys don't match.\")\n",
    "\n"
   ],
   "metadata": {
    "collapsed": false
   }
  },
  {
   "cell_type": "markdown",
   "source": [],
   "metadata": {
    "collapsed": false
   }
  }
 ],
 "metadata": {
  "kernelspec": {
   "display_name": "Python 3",
   "language": "python",
   "name": "python3"
  },
  "language_info": {
   "codemirror_mode": {
    "name": "ipython",
    "version": 2
   },
   "file_extension": ".py",
   "mimetype": "text/x-python",
   "name": "python",
   "nbconvert_exporter": "python",
   "pygments_lexer": "ipython2",
   "version": "2.7.6"
  }
 },
 "nbformat": 4,
 "nbformat_minor": 0
}
